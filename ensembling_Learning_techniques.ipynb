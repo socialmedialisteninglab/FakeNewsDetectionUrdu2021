{
 "cells": [
  {
   "cell_type": "markdown",
   "metadata": {
    "id": "gjBmG-r9T5PK"
   },
   "source": [
    "## Library Imports"
   ]
  },
  {
   "cell_type": "code",
   "execution_count": 8,
   "metadata": {
    "id": "Z4XXLyGyT5PN"
   },
   "outputs": [],
   "source": [
    "import math\n",
    "from nltk.corpus import wordnet\n",
    "import pandas as pd\n",
    "import numpy as np\n",
    "from sklearn.metrics import roc_auc_score\n",
    "from sklearn.feature_extraction.text import CountVectorizer\n",
    "from sklearn import metrics\n",
    "from sklearn.metrics import precision_recall_fscore_support\n",
    "from sklearn.svm import SVC\n",
    "import matplotlib.pyplot as plt\n",
    "from sklearn.metrics import plot_confusion_matrix\n",
    "from sklearn.metrics import confusion_matrix, ConfusionMatrixDisplay\n",
    "from sklearn.ensemble import AdaBoostClassifier\n",
    "from sklearn.linear_model import LogisticRegression\n",
    "from sklearn.svm import SVC\n",
    "from sklearn.naive_bayes import GaussianNB\n",
    "from sklearn.ensemble import RandomForestClassifier\n",
    "from sklearn.tree import DecisionTreeClassifier\n",
    "from sklearn.neighbors import KNeighborsClassifier\n",
    "\n",
    "\n",
    "import itertools\n",
    "\n",
    "from sklearn.utils import shuffle\n",
    "\n"
   ]
  },
  {
   "cell_type": "markdown",
   "metadata": {
    "id": "-TrgUQiWT5PO"
   },
   "source": [
    "## **Import Dataset**"
   ]
  },
  {
   "cell_type": "code",
   "execution_count": 9,
   "metadata": {
    "id": "obwQfrvoT5PP"
   },
   "outputs": [],
   "source": [
    "train = shuffle(pd.read_csv(\"training.csv\"))\n",
    "test = pd.read_csv(\"testing.csv\")"
   ]
  },
  {
   "cell_type": "markdown",
   "metadata": {
    "id": "_76YI_dTT5PP"
   },
   "source": [
    "## Seprate Train X and Train Y from training data"
   ]
  },
  {
   "cell_type": "code",
   "execution_count": 10,
   "metadata": {
    "colab": {
     "base_uri": "https://localhost:8080/",
     "height": 221
    },
    "executionInfo": {
     "elapsed": 8,
     "status": "ok",
     "timestamp": 1632394271333,
     "user": {
      "displayName": "Hammad Akram",
      "photoUrl": "https://lh3.googleusercontent.com/a-/AOh14GjcEwmvD8yrytu1rkd0MRGmAegQkhsRdwrnUeXwOg=s64",
      "userId": "13568865556910960527"
     },
     "user_tz": -300
    },
    "id": "zuYkCmnDT5PP",
    "outputId": "32e6fdd0-fa6f-4c33-f59b-cc2028b5079d"
   },
   "outputs": [
    {
     "name": "stdout",
     "output_type": "stream",
     "text": [
      "(1300, 3)\n"
     ]
    },
    {
     "data": {
      "text/html": [
       "<div>\n",
       "<style scoped>\n",
       "    .dataframe tbody tr th:only-of-type {\n",
       "        vertical-align: middle;\n",
       "    }\n",
       "\n",
       "    .dataframe tbody tr th {\n",
       "        vertical-align: top;\n",
       "    }\n",
       "\n",
       "    .dataframe thead th {\n",
       "        text-align: right;\n",
       "    }\n",
       "</style>\n",
       "<table border=\"1\" class=\"dataframe\">\n",
       "  <thead>\n",
       "    <tr style=\"text-align: right;\">\n",
       "      <th></th>\n",
       "      <th>index</th>\n",
       "      <th>text</th>\n",
       "      <th>label</th>\n",
       "    </tr>\n",
       "  </thead>\n",
       "  <tbody>\n",
       "    <tr>\n",
       "      <th>283</th>\n",
       "      <td>283</td>\n",
       "      <td>اب ہو گا خشکی کا یقینی خاتمہ بغیر مضر اثرات کے...</td>\n",
       "      <td>1</td>\n",
       "    </tr>\n",
       "    <tr>\n",
       "      <th>4</th>\n",
       "      <td>4</td>\n",
       "      <td>\\nگاڑی کی ٹکر سے ایک شخص کی ہلاکت پر بھارتی کر...</td>\n",
       "      <td>1</td>\n",
       "    </tr>\n",
       "    <tr>\n",
       "      <th>733</th>\n",
       "      <td>733</td>\n",
       "      <td>پرینکا چوپڑا اور نک جونس نے انڈیا میں مسیحی عق...</td>\n",
       "      <td>0</td>\n",
       "    </tr>\n",
       "    <tr>\n",
       "      <th>238</th>\n",
       "      <td>238</td>\n",
       "      <td>پاکستان کی خبر جنگ نے دعویٰ کیا ہے کہ پاکستان ...</td>\n",
       "      <td>1</td>\n",
       "    </tr>\n",
       "    <tr>\n",
       "      <th>1018</th>\n",
       "      <td>1018</td>\n",
       "      <td>پاکستان کے دارالحکومت اسلام آباد میں سبزی منڈ...</td>\n",
       "      <td>0</td>\n",
       "    </tr>\n",
       "  </tbody>\n",
       "</table>\n",
       "</div>"
      ],
      "text/plain": [
       "      index                                               text  label\n",
       "283     283  اب ہو گا خشکی کا یقینی خاتمہ بغیر مضر اثرات کے...      1\n",
       "4         4  \\nگاڑی کی ٹکر سے ایک شخص کی ہلاکت پر بھارتی کر...      1\n",
       "733     733  پرینکا چوپڑا اور نک جونس نے انڈیا میں مسیحی عق...      0\n",
       "238     238  پاکستان کی خبر جنگ نے دعویٰ کیا ہے کہ پاکستان ...      1\n",
       "1018   1018   پاکستان کے دارالحکومت اسلام آباد میں سبزی منڈ...      0"
      ]
     },
     "execution_count": 10,
     "metadata": {},
     "output_type": "execute_result"
    }
   ],
   "source": [
    "trainX = np.array(train['text'])\n",
    "trainY = np.array(train['label'])\n",
    "print(train.shape)\n",
    "train.head()"
   ]
  },
  {
   "cell_type": "markdown",
   "metadata": {
    "id": "i7II-HpFT5PQ"
   },
   "source": [
    "## Seprate Test X and Test Y from test data"
   ]
  },
  {
   "cell_type": "code",
   "execution_count": 11,
   "metadata": {
    "id": "SFCirtuYT5PR"
   },
   "outputs": [],
   "source": [
    "testX = np.array(test['text'])\n",
    "#testY = np.array(train['label'])"
   ]
  },
  {
   "cell_type": "markdown",
   "metadata": {
    "id": "H5WNLc-fT5PR"
   },
   "source": [
    "## Generate unigram Feature Matrix"
   ]
  },
  {
   "cell_type": "code",
   "execution_count": 12,
   "metadata": {
    "id": "ZGC5NujuT5PR"
   },
   "outputs": [],
   "source": [
    "vectTrain = CountVectorizer(input='content',decode_error='ignore',analyzer='word', strip_accents='unicode', binary=False, ngram_range=(1,2)).fit(trainX)\n",
    "X_train_vectorized = vectTrain.transform(trainX).toarray()\n",
    "X_test_vectorized = vectTrain.transform(testX).toarray()"
   ]
  },
  {
   "cell_type": "markdown",
   "metadata": {
    "id": "1uahu_bXT5PS"
   },
   "source": [
    "## Plot Confussion matrix"
   ]
  },
  {
   "cell_type": "code",
   "execution_count": 13,
   "metadata": {
    "id": "rigHTVHzT5PS"
   },
   "outputs": [],
   "source": [
    "def plot_confusion_matrix(cm, classes,\n",
    "                          normalize=False,\n",
    "                          title='Confusion matrix',\n",
    "                          cmap=plt.cm.Reds):\n",
    "    \n",
    "    plt.imshow(cm, interpolation='nearest', cmap=cmap)\n",
    "    plt.title(title)\n",
    "    plt.colorbar()\n",
    "    tick_marks = np.arange(len(classes))\n",
    "    plt.xticks(tick_marks, classes, rotation=45)\n",
    "    plt.yticks(tick_marks, classes)\n",
    "\n",
    "    if normalize:\n",
    "        cm = cm.astype('float') / cm.sum(axis=1)[:, np.newaxis]\n",
    "        print(\"Normalized confusion matrix\")\n",
    "    else:\n",
    "        print('Confusion matrix, without normalization')\n",
    "\n",
    "    thresh = cm.max() / 2.\n",
    "    for i, j in itertools.product(range(cm.shape[0]), range(cm.shape[1])):\n",
    "        plt.text(j, i, cm[i, j],\n",
    "                 horizontalalignment=\"center\",\n",
    "                 color=\"white\" if cm[i, j] > thresh else \"black\")\n",
    "\n",
    "    plt.tight_layout()\n",
    "    plt.ylabel('True label')\n",
    "    plt.xlabel('Predicted label')"
   ]
  },
  {
   "cell_type": "markdown",
   "metadata": {
    "id": "f7KnlijOT5PT"
   },
   "source": [
    "## Ada Boost"
   ]
  },
  {
   "cell_type": "code",
   "execution_count": 15,
   "metadata": {
    "id": "0aimg_emT5PT"
   },
   "outputs": [],
   "source": [
    "adaBoostClassifier = AdaBoostClassifier(n_estimators=2000, random_state=0)\n",
    "adaBoostClassifier.fit(X_train_vectorized, trainY)\n",
    "trainPredictionAda = adaBoostClassifier.predict(X_train_vectorized)\n",
    "testPredictionsAda = adaBoostClassifier.predict(X_test_vectorized)"
   ]
  },
  {
   "cell_type": "markdown",
   "metadata": {
    "id": "E99dBlWsT5PT"
   },
   "source": [
    "## Confusion Matrix For Test Data"
   ]
  },
  {
   "cell_type": "code",
   "execution_count": 16,
   "metadata": {
    "id": "4uut-Xj0T5PT"
   },
   "outputs": [],
   "source": [
    "# cm = confusion_matrix(testPredictionsAda, testY) \n",
    "# print(cm)\n",
    "# plot_confusion_matrix(cm, classes=['Fake', 'Real'])"
   ]
  },
  {
   "cell_type": "markdown",
   "metadata": {
    "id": "8NtquaUtT5PU"
   },
   "source": [
    "## Confusion Matrox for Train Data"
   ]
  },
  {
   "cell_type": "code",
   "execution_count": 17,
   "metadata": {
    "colab": {
     "base_uri": "https://localhost:8080/",
     "height": 362
    },
    "executionInfo": {
     "elapsed": 763,
     "status": "ok",
     "timestamp": 1632394324724,
     "user": {
      "displayName": "Hammad Akram",
      "photoUrl": "https://lh3.googleusercontent.com/a-/AOh14GjcEwmvD8yrytu1rkd0MRGmAegQkhsRdwrnUeXwOg=s64",
      "userId": "13568865556910960527"
     },
     "user_tz": -300
    },
    "id": "s1pug3zMT5PU",
    "outputId": "f6bd8be7-1593-4294-9188-0983abb587a7"
   },
   "outputs": [
    {
     "name": "stdout",
     "output_type": "stream",
     "text": [
      "[[749   0]\n",
      " [  1 550]]\n",
      "Confusion matrix, without normalization\n"
     ]
    },
    {
     "data": {
      "image/png": "[encoded data removed]",
      "text/plain": [
       "<Figure size 432x288 with 2 Axes>"
      ]
     },
     "metadata": {
      "needs_background": "light"
     },
     "output_type": "display_data"
    }
   ],
   "source": [
    "cm = confusion_matrix(trainPredictionAda, trainY) \n",
    "print(cm)\n",
    "plot_confusion_matrix(cm, classes=['Fake', 'Real'])"
   ]
  },
  {
   "cell_type": "markdown",
   "metadata": {
    "id": "renvwSuQT5PU"
   },
   "source": [
    "## Training Accuracy"
   ]
  },
  {
   "cell_type": "code",
   "execution_count": 18,
   "metadata": {
    "colab": {
     "base_uri": "https://localhost:8080/"
    },
    "executionInfo": {
     "elapsed": 13,
     "status": "ok",
     "timestamp": 1632394324725,
     "user": {
      "displayName": "Hammad Akram",
      "photoUrl": "https://lh3.googleusercontent.com/a-/AOh14GjcEwmvD8yrytu1rkd0MRGmAegQkhsRdwrnUeXwOg=s64",
      "userId": "13568865556910960527"
     },
     "user_tz": -300
    },
    "id": "NnpCWONPT5PV",
    "outputId": "fe72c997-b6fb-4ad4-cf63-d8ed36a16d40"
   },
   "outputs": [
    {
     "name": "stdout",
     "output_type": "stream",
     "text": [
      "Precision_Recall_Fscore on Training Data is: (0.9992321652938713, 0.9992307692307693, 0.999230861982233, None)\n",
      "Overall Accuracy on Training Data is: 0.9992307692307693\n"
     ]
    }
   ],
   "source": [
    "print (\"Precision_Recall_Fscore on Training Data is:\",precision_recall_fscore_support(trainY, trainPredictionAda, average='weighted'))\n",
    "print (\"Overall Accuracy on Training Data is:\",metrics.accuracy_score(trainY,trainPredictionAda))"
   ]
  },
  {
   "cell_type": "markdown",
   "metadata": {
    "id": "ndovNaBmT5PV"
   },
   "source": [
    "## Testing Accuracy"
   ]
  },
  {
   "cell_type": "code",
   "execution_count": 19,
   "metadata": {
    "id": "TYud5Ek8T5PV"
   },
   "outputs": [],
   "source": [
    "# print (\"Precision_Recall_Fscore on Testing Data is:\",precision_recall_fscore_support(testY,testPredictionsAda, average='weighted'))\n",
    "# print (\"Overall Accuracy on Testing Data is:\",metrics.accuracy_score(testY,testPredictionsAda))"
   ]
  },
  {
   "cell_type": "markdown",
   "metadata": {
    "id": "-KAanhp7T5PV"
   },
   "source": [
    "## GBM"
   ]
  },
  {
   "cell_type": "code",
   "execution_count": 20,
   "metadata": {
    "id": "jK33aaART5PW"
   },
   "outputs": [],
   "source": [
    "import lightgbm as lgb\n",
    "clf = lgb.LGBMClassifier()\n",
    "clf.fit(X_train_vectorized, trainY)\n",
    "\n",
    "trainPredictiongbm = clf.predict(X_train_vectorized)\n",
    "testPredictionsgbm = clf.predict(X_test_vectorized)"
   ]
  },
  {
   "cell_type": "markdown",
   "metadata": {
    "id": "hfL-qQOxT5PW"
   },
   "source": [
    "## Training Confusion Matrix"
   ]
  },
  {
   "cell_type": "code",
   "execution_count": 21,
   "metadata": {
    "colab": {
     "base_uri": "https://localhost:8080/",
     "height": 362
    },
    "executionInfo": {
     "elapsed": 640,
     "status": "ok",
     "timestamp": 1632394331295,
     "user": {
      "displayName": "Hammad Akram",
      "photoUrl": "https://lh3.googleusercontent.com/a-/AOh14GjcEwmvD8yrytu1rkd0MRGmAegQkhsRdwrnUeXwOg=s64",
      "userId": "13568865556910960527"
     },
     "user_tz": -300
    },
    "id": "sudJ-6xmT5PW",
    "outputId": "1b4dbb17-2bf9-413a-bba7-14e69c85cb92"
   },
   "outputs": [
    {
     "name": "stdout",
     "output_type": "stream",
     "text": [
      "[[750   1]\n",
      " [  0 549]]\n",
      "Confusion matrix, without normalization\n"
     ]
    },
    {
     "data": {
      "image/png": "[encoded data removed]",
      "text/plain": [
       "<Figure size 432x288 with 2 Axes>"
      ]
     },
     "metadata": {
      "needs_background": "light"
     },
     "output_type": "display_data"
    }
   ],
   "source": [
    "cm = confusion_matrix(trainPredictiongbm, trainY) \n",
    "print(cm)\n",
    "plot_confusion_matrix(cm, classes=['Fake', 'Real'])"
   ]
  },
  {
   "cell_type": "markdown",
   "metadata": {
    "id": "d-EcFycDT5PW"
   },
   "source": [
    "## Testing Confusion Matrix"
   ]
  },
  {
   "cell_type": "code",
   "execution_count": 22,
   "metadata": {
    "id": "DkcDL-s6T5PW"
   },
   "outputs": [],
   "source": [
    "# cm = confusion_matrix(testPredictionsgbm, testY) \n",
    "# print(cm)\n",
    "# plot_confusion_matrix(cm, classes=['Fake', 'Real'])"
   ]
  },
  {
   "cell_type": "markdown",
   "metadata": {
    "id": "WX8cvqI-T5PX"
   },
   "source": [
    "## Training Accuracy"
   ]
  },
  {
   "cell_type": "code",
   "execution_count": 23,
   "metadata": {
    "colab": {
     "base_uri": "https://localhost:8080/"
    },
    "executionInfo": {
     "elapsed": 11,
     "status": "ok",
     "timestamp": 1632394331296,
     "user": {
      "displayName": "Hammad Akram",
      "photoUrl": "https://lh3.googleusercontent.com/a-/AOh14GjcEwmvD8yrytu1rkd0MRGmAegQkhsRdwrnUeXwOg=s64",
      "userId": "13568865556910960527"
     },
     "user_tz": -300
    },
    "id": "QSsotw2bT5PX",
    "outputId": "c7687143-6511-46c2-d700-4bf060f83477"
   },
   "outputs": [
    {
     "name": "stdout",
     "output_type": "stream",
     "text": [
      "Precision_Recall_Fscore on Training Data is: (0.9992317935060944, 0.9992307692307693, 0.9992306755016966, None)\n",
      "Overall Accuracy on Training Data is: 0.9992307692307693\n"
     ]
    }
   ],
   "source": [
    "print (\"Precision_Recall_Fscore on Training Data is:\",precision_recall_fscore_support(trainY, trainPredictiongbm, average='weighted'))\n",
    "print (\"Overall Accuracy on Training Data is:\",metrics.accuracy_score(trainY,trainPredictiongbm))"
   ]
  },
  {
   "cell_type": "markdown",
   "metadata": {
    "id": "smz01L0FT5PX"
   },
   "source": [
    "## Testing Accuracy"
   ]
  },
  {
   "cell_type": "code",
   "execution_count": 24,
   "metadata": {
    "id": "8_PUQsWFT5PX"
   },
   "outputs": [],
   "source": [
    "# print (\"Precision_Recall_Fscore on Testing Data is:\",precision_recall_fscore_support(testY,testPredictionsgbm, average='weighted'))\n",
    "# print (\"Overall Accuracy on Testing Data is:\",metrics.accuracy_score(testY,testPredictionsgbm))"
   ]
  },
  {
   "cell_type": "markdown",
   "metadata": {
    "id": "R2c8CSulT5PY"
   },
   "source": [
    "## XG Boost"
   ]
  },
  {
   "cell_type": "code",
   "execution_count": 25,
   "metadata": {
    "id": "ZTw6e2KVT5PY"
   },
   "outputs": [
    {
     "name": "stderr",
     "output_type": "stream",
     "text": [
      "/home/hammad/anaconda3/lib/python3.8/site-packages/xgboost/sklearn.py:1146: UserWarning: The use of label encoder in XGBClassifier is deprecated and will be removed in a future release. To remove this warning, do the following: 1) Pass option use_label_encoder=False when constructing XGBClassifier object; and 2) Encode your labels (y) as integers starting with 0, i.e. 0, 1, 2, ..., [num_class - 1].\n",
      "  warnings.warn(label_encoder_deprecation_msg, UserWarning)\n"
     ]
    },
    {
     "name": "stdout",
     "output_type": "stream",
     "text": [
      "[22:48:53] WARNING: ../src/learner.cc:1095: Starting in XGBoost 1.3.0, the default evaluation metric used with the objective 'binary:logistic' was changed from 'error' to 'logloss'. Explicitly set eval_metric if you'd like to restore the old behavior.\n"
     ]
    }
   ],
   "source": [
    "import xgboost as xgb\n",
    "xgb_clf = xgb.XGBClassifier()\n",
    "model = xgb_clf.fit(X_train_vectorized, trainY)\n",
    "trainPredictionxgb = xgb_clf.predict(X_train_vectorized)\n",
    "testPredictionsxgb = xgb_clf.predict(X_test_vectorized)"
   ]
  },
  {
   "cell_type": "markdown",
   "metadata": {
    "id": "BXHCCujBT5PY"
   },
   "source": [
    "## Training Confusion Matrix"
   ]
  },
  {
   "cell_type": "code",
   "execution_count": 26,
   "metadata": {
    "colab": {
     "base_uri": "https://localhost:8080/",
     "height": 362
    },
    "executionInfo": {
     "elapsed": 24,
     "status": "ok",
     "timestamp": 1632394734245,
     "user": {
      "displayName": "Hammad Akram",
      "photoUrl": "https://lh3.googleusercontent.com/a-/AOh14GjcEwmvD8yrytu1rkd0MRGmAegQkhsRdwrnUeXwOg=s64",
      "userId": "13568865556910960527"
     },
     "user_tz": -300
    },
    "id": "DrFlVzAGT5PY",
    "outputId": "e22a507a-ca58-4781-e8b1-a3f0f915a858"
   },
   "outputs": [
    {
     "name": "stdout",
     "output_type": "stream",
     "text": [
      "[[750   2]\n",
      " [  0 548]]\n",
      "Confusion matrix, without normalization\n"
     ]
    },
    {
     "data": {
      "image/png": "[encoded data removed]",
      "text/plain": [
       "<Figure size 432x288 with 2 Axes>"
      ]
     },
     "metadata": {
      "needs_background": "light"
     },
     "output_type": "display_data"
    }
   ],
   "source": [
    "cm = confusion_matrix(trainPredictionxgb, trainY) \n",
    "print(cm)\n",
    "plot_confusion_matrix(cm, classes=['Fake', 'Real'])"
   ]
  },
  {
   "cell_type": "markdown",
   "metadata": {
    "id": "rQjt8W-ZT5PZ"
   },
   "source": [
    "## Testing Confusion Matrix"
   ]
  },
  {
   "cell_type": "code",
   "execution_count": 27,
   "metadata": {
    "id": "ohDuT1vLT5PZ"
   },
   "outputs": [],
   "source": [
    "# cm = confusion_matrix(testPredictionsxgb, testY) \n",
    "# print(cm)\n",
    "# plot_confusion_matrix(cm, classes=['Fake', 'Real'])"
   ]
  },
  {
   "cell_type": "markdown",
   "metadata": {
    "id": "ZgDmQTxjT5PZ"
   },
   "source": [
    "## Training Accuracy"
   ]
  },
  {
   "cell_type": "code",
   "execution_count": 28,
   "metadata": {
    "colab": {
     "base_uri": "https://localhost:8080/"
    },
    "executionInfo": {
     "elapsed": 14,
     "status": "ok",
     "timestamp": 1632394734987,
     "user": {
      "displayName": "Hammad Akram",
      "photoUrl": "https://lh3.googleusercontent.com/a-/AOh14GjcEwmvD8yrytu1rkd0MRGmAegQkhsRdwrnUeXwOg=s64",
      "userId": "13568865556910960527"
     },
     "user_tz": -300
    },
    "id": "0IYfpyygT5PZ",
    "outputId": "b9f5513e-97cb-4e0a-db2d-1acbbe65c019"
   },
   "outputs": [
    {
     "name": "stdout",
     "output_type": "stream",
     "text": [
      "Precision_Recall_Fscore on Training Data is: (0.9984656301145663, 0.9984615384615385, 0.9984611615879215, None)\n",
      "Overall Accuracy on Training Data is: 0.9984615384615385\n"
     ]
    }
   ],
   "source": [
    "print (\"Precision_Recall_Fscore on Training Data is:\",precision_recall_fscore_support(trainY, trainPredictionxgb, average='weighted'))\n",
    "print (\"Overall Accuracy on Training Data is:\",metrics.accuracy_score(trainY,trainPredictionxgb))"
   ]
  },
  {
   "cell_type": "markdown",
   "metadata": {
    "id": "szkVgc-PT5PZ"
   },
   "source": [
    "## Testing Accuracy"
   ]
  },
  {
   "cell_type": "code",
   "execution_count": 29,
   "metadata": {
    "id": "wX0mOXr2T5Pa"
   },
   "outputs": [],
   "source": [
    "# print (\"Precision_Recall_Fscore on Testing Data is:\",precision_recall_fscore_support(testY,testPredictionsxgb, average='weighted'))\n",
    "# print (\"Overall Accuracy on Testing Data is:\",metrics.accuracy_score(testY,testPredictionsxgb))"
   ]
  },
  {
   "cell_type": "markdown",
   "metadata": {
    "id": "5ca3v3jvT5Pa"
   },
   "source": [
    "## combine all the predictions"
   ]
  },
  {
   "cell_type": "code",
   "execution_count": 30,
   "metadata": {
    "id": "wpya1IxsT5Pa"
   },
   "outputs": [],
   "source": [
    "test['ADA_Result'] = testPredictionsAda\n",
    "test['GBM_Result'] = testPredictionsgbm\n",
    "test['XG_Result'] = testPredictionsxgb"
   ]
  },
  {
   "cell_type": "code",
   "execution_count": 31,
   "metadata": {
    "id": "EFmz7X8XSX12"
   },
   "outputs": [],
   "source": [
    "df2 = test.copy()"
   ]
  },
  {
   "cell_type": "markdown",
   "metadata": {
    "id": "vwvER5TyT5Pa"
   },
   "source": [
    "## Compute Final Results"
   ]
  },
  {
   "cell_type": "code",
   "execution_count": 32,
   "metadata": {
    "id": "thN7_88NT5Pa"
   },
   "outputs": [],
   "source": [
    "def computeResults(dfd):\n",
    "    dfd[\"sum_of_results\"] = 0\n",
    "    for i, x in dfd.iterrows():\n",
    "      dfd.loc[i,['sum_of_results']] = dfd[\"ADA_Result\"][i] + dfd[\"GBM_Result\"][i] + dfd[\"XG_Result\"][i]\n",
    "    for dex, row in dfd.iterrows():\n",
    "      if dfd['sum_of_results'][dex] >= 2:\n",
    "        dfd.loc[dex, ['label']] = 1\n",
    "      else:\n",
    "        dfd.loc[dex, ['label']] = 0\n",
    "    return dfd"
   ]
  },
  {
   "cell_type": "code",
   "execution_count": 33,
   "metadata": {
    "id": "josR982-AZw0"
   },
   "outputs": [],
   "source": [
    "xData = computeResults(df2)"
   ]
  },
  {
   "cell_type": "code",
   "execution_count": 34,
   "metadata": {
    "id": "e87QDl7SdAd1"
   },
   "outputs": [],
   "source": [
    "def computeFinalResults(df):\n",
    "    df[\"Real/Fake\"] = np.nan\n",
    "    for index, row in df.iterrows():\n",
    "      if df['label'][index] == 1 and df['XG_Result'][index] == 0  and df['sum_of_results'][index] >= 1:\n",
    "        df.loc[index, ['Real/Fake']] = 'F'\n",
    "      elif df['label'][index] == 0 and df['XG_Result'][index] == 1  and df['sum_of_results'][index] < 2:\n",
    "        df.loc[index, ['Real/Fake']] = 'R'\n",
    "      else:\n",
    "        if df['XG_Result'][index] == 1:\n",
    "          df.loc[index, ['Real/Fake']] = 'F'\n",
    "        elif df['XG_Result'][index] == 0:\n",
    "          df.loc[index, ['Real/Fake']] = 'R'\n",
    "    return df"
   ]
  },
  {
   "cell_type": "code",
   "execution_count": 35,
   "metadata": {
    "id": "WsYXFU9jb6E6"
   },
   "outputs": [],
   "source": [
    "final_results = computeFinalResults(xData)"
   ]
  },
  {
   "cell_type": "code",
   "execution_count": 36,
   "metadata": {
    "colab": {
     "base_uri": "https://localhost:8080/"
    },
    "executionInfo": {
     "elapsed": 634,
     "status": "ok",
     "timestamp": 1632398453193,
     "user": {
      "displayName": "Hammad Akram",
      "photoUrl": "https://lh3.googleusercontent.com/a-/AOh14GjcEwmvD8yrytu1rkd0MRGmAegQkhsRdwrnUeXwOg=s64",
      "userId": "13568865556910960527"
     },
     "user_tz": -300
    },
    "id": "__Ho7v2tgqBl",
    "outputId": "f8ce9a8b-8fc6-4127-f9ba-984590562f8d"
   },
   "outputs": [
    {
     "name": "stdout",
     "output_type": "stream",
     "text": [
      "     File_No Real/Fake\n",
      "0         63         R\n",
      "1        159         F\n",
      "2        128         R\n",
      "3         34         F\n",
      "4         13         R\n",
      "..       ...       ...\n",
      "295      101         R\n",
      "296      152         R\n",
      "297      280         R\n",
      "298      118         R\n",
      "299      242         R\n",
      "\n",
      "[300 rows x 2 columns]\n"
     ]
    }
   ],
   "source": [
    "final_df = pd.DataFrame()\n",
    "final_df = final_results[[\"File_No\", \"Real/Fake\"]]\n",
    "print(final_df)"
   ]
  },
  {
   "cell_type": "markdown",
   "metadata": {
    "id": "2xc9_iKDT5Pc"
   },
   "source": [
    "## Save Prediction in file"
   ]
  },
  {
   "cell_type": "code",
   "execution_count": 38,
   "metadata": {},
   "outputs": [],
   "source": [
    "final_df.to_csv('Technique_Two_Result.csv', index=False, encoding=\"utf-8\") "
   ]
  },
  {
   "cell_type": "code",
   "execution_count": null,
   "metadata": {},
   "outputs": [],
   "source": []
  }
 ],
 "metadata": {
  "accelerator": "GPU",
  "colab": {
   "collapsed_sections": [],
   "name": "ensembling_Learning_techniques.ipynb",
   "provenance": []
  },
  "kernelspec": {
   "display_name": "Python 3",
   "language": "python",
   "name": "python3"
  },
  "language_info": {
   "codemirror_mode": {
    "name": "ipython",
    "version": 3
   },
   "file_extension": ".py",
   "mimetype": "text/x-python",
   "name": "python",
   "nbconvert_exporter": "python",
   "pygments_lexer": "ipython3",
   "version": "3.8.8"
  }
 },
 "nbformat": 4,
 "nbformat_minor": 1
}
